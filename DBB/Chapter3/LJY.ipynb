{
  "cells": [
    {
      "cell_type": "code",
      "execution_count": 17,
      "metadata": {
        "colab": {
          "base_uri": "https://localhost:8080/"
        },
        "id": "VJfkUptbK_rS",
        "outputId": "26dde7a7-826c-4997-a6ff-9a267a4dcd8d"
      },
      "outputs": [
        {
          "name": "stdout",
          "output_type": "stream",
          "text": [
            "6\n"
          ]
        }
      ],
      "source": [
        "# 1번 Lee\n",
        "change = 1260\n",
        "count = 0\n",
        "coins = [500, 100, 50, 10]\n",
        "\n",
        "for coin in coins:\n",
        "  count += change // coin\n",
        "  change %= coin\n",
        "\n",
        "print(count)"
      ]
    },
    {
      "cell_type": "code",
      "execution_count": 57,
      "metadata": {
        "colab": {
          "base_uri": "https://localhost:8080/"
        },
        "id": "IbmoGqL2U7oU",
        "outputId": "99191f65-6347-423f-cc59-021b9f1dbf6a"
      },
      "outputs": [
        {
          "name": "stdout",
          "output_type": "stream",
          "text": [
            "5 8 3\n",
            "2 4 5 4 6\n",
            "46\n"
          ]
        }
      ],
      "source": [
        "# 2번 Lee\n",
        "\n",
        "n, m, k = map(int, input().split())\n",
        "num_list = list(map(int, input().split()))\n",
        "num_list.sort(reverse = True)\n",
        "result = 0 \n",
        "\n",
        "target = m // k * k\n",
        "\n",
        "result += num_list[0] * target + num_list[1] * (m - target)\n",
        "\n",
        "print(result)"
      ]
    },
    {
      "cell_type": "code",
      "execution_count": 58,
      "metadata": {
        "colab": {
          "base_uri": "https://localhost:8080/"
        },
        "id": "hXO0o-IGVQf1",
        "outputId": "008cb774-ea6e-424a-c1b2-7d2894e9db75"
      },
      "outputs": [
        {
          "name": "stdout",
          "output_type": "stream",
          "text": [
            "5 8 3\n",
            "2 4 5 4 6\n",
            "46\n"
          ]
        }
      ],
      "source": [
        "# 2번 Na\n",
        "\n",
        "n, m, k = map(int, input().split())\n",
        "num_list = list(map(int, input().split()))\n",
        "num_list.sort()\n",
        "first = num_list[n - 1]\n",
        "second = num_list[n - 2]\n",
        "\n",
        "result = 0\n",
        "\n",
        "while True:\n",
        "  for i in range(k):\n",
        "    if m == 0:\n",
        "      break\n",
        "    result += first\n",
        "    m -= 1\n",
        "  if m == 0:\n",
        "    break\n",
        "  result += second\n",
        "  m -= 1\n",
        "\n",
        "print(result)"
      ]
    },
    {
      "cell_type": "code",
      "execution_count": 90,
      "metadata": {
        "colab": {
          "base_uri": "https://localhost:8080/"
        },
        "id": "jE56BxPKX1gU",
        "outputId": "826356d9-9dde-49ca-fcb0-5557c683d2db"
      },
      "outputs": [
        {
          "name": "stdout",
          "output_type": "stream",
          "text": [
            "2 4\n",
            "7 3 1 8\n",
            "3 3 3 4\n",
            "3\n"
          ]
        }
      ],
      "source": [
        "# 3번 Lee\n",
        "n, m = map(int, input().split())\n",
        "matrix = [list(map(int, input().split())) for _ in range(n)]\n",
        "num_list = []\n",
        "\n",
        "for i in range(n):\n",
        "  matrix[i].sort()\n",
        "  num_list.append(matrix[i][0])\n",
        "\n",
        "num_list.sort()\n",
        "largest = num_list[n - 1]\n",
        "print(largest)"
      ]
    },
    {
      "cell_type": "code",
      "execution_count": 92,
      "metadata": {
        "colab": {
          "base_uri": "https://localhost:8080/"
        },
        "id": "a17yMhlRCnga",
        "outputId": "1409141b-a13d-4035-8686-c6c7345223e8"
      },
      "outputs": [
        {
          "name": "stdout",
          "output_type": "stream",
          "text": [
            "2 4\n",
            "7 3 1 8\n",
            "3 3 3 4\n",
            "3\n"
          ]
        }
      ],
      "source": [
        "# 3번 Na (1)\n",
        "n, m = map(int, input().split())\n",
        "result = 0\n",
        "\n",
        "for i in range(n):\n",
        "  data = list(map(int, input().split()))\n",
        "  min_value = min(data)\n",
        "  result = max(result, min_value)\n",
        "\n",
        "print(result)"
      ]
    },
    {
      "cell_type": "code",
      "execution_count": 93,
      "metadata": {
        "colab": {
          "base_uri": "https://localhost:8080/"
        },
        "id": "LMVEblm-G4I7",
        "outputId": "16779244-6a66-494e-b1c9-19046fca14f4"
      },
      "outputs": [
        {
          "name": "stdout",
          "output_type": "stream",
          "text": [
            "2 4\n",
            "7 3 1 8\n",
            "3 3 3 4\n",
            "3\n"
          ]
        }
      ],
      "source": [
        "# 3번 Na (2)\n",
        "n, m = map(int, input().split())\n",
        "\n",
        "result = 0\n",
        "for i in range(n):\n",
        "  data = list(map(int, input().split()))\n",
        "  min_value = 1001\n",
        "  for a in data:\n",
        "    min_value = min(min_value, a)\n",
        "  result = max(result, min_value)\n",
        "\n",
        "print(result)"
      ]
    },
    {
      "cell_type": "code",
      "execution_count": 46,
      "metadata": {
        "colab": {
          "base_uri": "https://localhost:8080/"
        },
        "id": "tTL_9x_WQ0IU",
        "outputId": "ee943fda-3cec-487c-b91a-5582618c4077"
      },
      "outputs": [
        {
          "name": "stdout",
          "output_type": "stream",
          "text": [
            "17\n",
            "5\n",
            "5\n"
          ]
        }
      ],
      "source": [
        "# 4번 Lee(naive)\n",
        "N = int(input())\n",
        "K = int(input())\n",
        "\n",
        "count = 0\n",
        "\n",
        "while True: #True 대신에  N != 1\n",
        "  if N % K == 0:\n",
        "    N = N // K\n",
        "    count += 1\n",
        "  elif N == 1:\n",
        "    break\n",
        "  else:\n",
        "    N -= 1\n",
        "    count += 1\n",
        "\n",
        "print(count)"
      ]
    },
    {
      "cell_type": "code",
      "execution_count": 54,
      "metadata": {
        "colab": {
          "base_uri": "https://localhost:8080/"
        },
        "id": "g1U2TmeRUq9j",
        "outputId": "fe4cee0d-8118-4846-abe2-215eb10b5a74"
      },
      "outputs": [
        {
          "name": "stdout",
          "output_type": "stream",
          "text": [
            "17 5\n",
            "5\n"
          ]
        }
      ],
      "source": [
        "# 4번 Na\n",
        "n, k = map(int,input().split())\n",
        "result = 0\n",
        "\n",
        "while True:\n",
        "  target = n//k * k\n",
        "  result += (n - target)\n",
        "  n = target\n",
        "  if n < k:\n",
        "    break\n",
        "  result += 1\n",
        "  n //= k\n",
        "\n",
        "result += n - 1\n",
        "print(result)\n",
        "\n"
      ]
    },
    {
      "cell_type": "code",
      "execution_count": null,
      "metadata": {
        "id": "SY-Rko4MJvG0"
      },
      "outputs": [],
      "source": []
    }
  ],
  "metadata": {
    "colab": {
      "collapsed_sections": [],
      "name": "DBB_3.ipynb",
      "provenance": []
    },
    "kernelspec": {
      "display_name": "Python 3",
      "name": "python3"
    },
    "language_info": {
      "name": "python"
    }
  },
  "nbformat": 4,
  "nbformat_minor": 0
}
