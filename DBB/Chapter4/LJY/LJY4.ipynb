{
  "nbformat": 4,
  "nbformat_minor": 0,
  "metadata": {
    "colab": {
      "name": "LJY4.ipynb",
      "provenance": [],
      "collapsed_sections": []
    },
    "kernelspec": {
      "name": "python3",
      "display_name": "Python 3"
    },
    "language_info": {
      "name": "python"
    }
  },
  "cells": [
    {
      "cell_type": "code",
      "execution_count": null,
      "metadata": {
        "colab": {
          "base_uri": "https://localhost:8080/"
        },
        "id": "lPCALDsK8Rmc",
        "outputId": "d0295b56-7bb7-437c-e7b9-362ed508b39d"
      },
      "outputs": [
        {
          "output_type": "stream",
          "name": "stdout",
          "text": [
            "5\n",
            "R R R U D D\n",
            "2 5\n"
          ]
        }
      ],
      "source": [
        "N = int(input())\n",
        "plan = input().split()\n",
        "\n",
        "x = 1\n",
        "y = 1\n",
        "\n",
        "# 동 북 서 남\n",
        "dy = [0, -1, 0, 1]\n",
        "dx = [1, 0, -1, 0]\n",
        "\n",
        "\n",
        "for i in plan:\n",
        "  if i == 'R':\n",
        "    nx = x + dx[0]\n",
        "    if nx >= N:\n",
        "      nx = N\n",
        "  elif i == 'L':\n",
        "    nx = x + dx[2]\n",
        "    if nx <= 1:\n",
        "      nx = 1\n",
        "  elif i == 'U':\n",
        "    ny = y + dy[1]\n",
        "    if ny <= 1:\n",
        "      ny = 1\n",
        "  elif i == 'D':\n",
        "    ny = y + dy[3]\n",
        "    if ny <= N:\n",
        "      ny = N\n",
        "\n",
        "print(nx, ny)\n",
        "\n"
      ]
    },
    {
      "cell_type": "code",
      "source": [
        "n = int(input())\n",
        "x, y = 1, 1\n",
        "plan = input().split()\n",
        "\n",
        "dx = [1, -1, 0, 0]\n",
        "dy = [0, 0, 1, -1]\n",
        "\n",
        "direction = ['R', 'L', 'D', 'U']\n",
        "\n",
        "for i in plan:\n",
        "    for j in range(len(direction)):\n",
        "        if plan == direction[j]:\n",
        "            nx = x + dx[j]\n",
        "            ny = y + dy[j]\n",
        "  \n",
        "    if nx < 1 or ny < 1 or nx > n or ny > n :\n",
        "        continue\n",
        "  \n",
        "    x, y = nx, ny\n",
        "\n",
        "print(x, y)"
      ],
      "metadata": {
        "colab": {
          "base_uri": "https://localhost:8080/"
        },
        "id": "WvOCRo1cHzQ1",
        "outputId": "33188ee3-70cc-432c-cfa9-b8f6c5b1bffd"
      },
      "execution_count": null,
      "outputs": [
        {
          "output_type": "stream",
          "name": "stdout",
          "text": [
            "5\n",
            "R R R U D D\n",
            "1 1\n"
          ]
        }
      ]
    },
    {
      "cell_type": "code",
      "source": [
        "N = int(input())\n",
        "\n",
        "num = []\n",
        "count = 0\n",
        "for n in range(N + 1):\n",
        "  for i in range(60):\n",
        "    for j in range(60):\n",
        "        if '3' in str(n % 10) + str(n // 10) + str(i % 10) + str(i // 10) + str(j % 10) + str(j // 10):\n",
        "          # or?????\n",
        "          count += 1\n",
        "print(count)\n",
        "\n"
      ],
      "metadata": {
        "colab": {
          "base_uri": "https://localhost:8080/"
        },
        "id": "c7AB7ZXpUB_y",
        "outputId": "33279fcd-f0e5-4417-ee45-65a39b5447c0"
      },
      "execution_count": null,
      "outputs": [
        {
          "output_type": "stream",
          "name": "stdout",
          "text": [
            "5\n",
            "11475\n"
          ]
        }
      ]
    },
    {
      "cell_type": "code",
      "source": [
        "N = int(input())\n",
        "\n",
        "num = []\n",
        "count = 0\n",
        "for n in range(N + 1):\n",
        "  for i in range(60):\n",
        "    for j in range(60):\n",
        "        if '3' in str(i) + str(j) + str(n):\n",
        "          count += 1\n",
        "print(count)\n"
      ],
      "metadata": {
        "colab": {
          "base_uri": "https://localhost:8080/"
        },
        "id": "A2yBU_JEnbB7",
        "outputId": "63352ffa-f295-4774-993b-97a2ddd410f1"
      },
      "execution_count": null,
      "outputs": [
        {
          "output_type": "stream",
          "name": "stdout",
          "text": [
            "5\n",
            "11475\n"
          ]
        }
      ]
    },
    {
      "cell_type": "code",
      "source": [
        "coordinate = input()\n",
        "\n",
        "column = ['a','b','c','d','e','f','g','h']\n",
        "\n",
        "dx = [2, 2, -2, -2, 1, -1, 1, -1]\n",
        "dy = [1, -1, 1, -1, 2, 2, -2, -2]\n",
        "\n",
        "if coordinate[0] in column:\n",
        "  y = column.index(coordinate[0]) + 1\n",
        "x = coordinate[1]\n",
        "\n",
        "count = 0\n",
        "\n",
        "for i in range(8):\n",
        "  nx = int(x) + dx[i]\n",
        "  ny = int(y) + dy[i]\n",
        "  if nx < 1 or ny < 1 or nx > 8 or ny > 8:\n",
        "    count += 1\n",
        "\n",
        "A = 8 - count \n",
        "print(A)\n",
        "\n",
        "#for i in range()"
      ],
      "metadata": {
        "colab": {
          "base_uri": "https://localhost:8080/"
        },
        "id": "pPKpvRRCnGNZ",
        "outputId": "19ca97e0-31a6-4008-e3b8-8b9e63d1f908"
      },
      "execution_count": null,
      "outputs": [
        {
          "output_type": "stream",
          "name": "stdout",
          "text": [
            "c2\n",
            "6\n"
          ]
        }
      ]
    },
    {
      "cell_type": "code",
      "source": [
        "a = ['a', 'b', 'e', 'c']\n",
        "a.sort()\n",
        "a"
      ],
      "metadata": {
        "colab": {
          "base_uri": "https://localhost:8080/"
        },
        "id": "XVTKsakKx_aR",
        "outputId": "a82ffa32-a64d-451e-99cb-9c42b64160d5"
      },
      "execution_count": null,
      "outputs": [
        {
          "output_type": "execute_result",
          "data": {
            "text/plain": [
              "['a', 'b', 'c', 'e']"
            ]
          },
          "metadata": {},
          "execution_count": 53
        }
      ]
    },
    {
      "cell_type": "code",
      "source": [
        "from string import ascii_uppercase\n",
        "\n",
        "string = input()\n",
        "alphabet_list = list(ascii_uppercase)\n",
        "\n",
        "A = [] \n",
        "B = []\n",
        "\n",
        "for i in string:\n",
        "  if i in alphabet_list:\n",
        "    A.append(i)\n",
        "    A.sort()\n",
        "  else:\n",
        "    B.append(int(i))\n",
        "\n",
        "str_1 = str()\n",
        "for a in A:\n",
        "  str_1 += a\n",
        "\n",
        "str_2 = str(sum(B))\n",
        "\n",
        "str_3 = str_1 + str_2\n",
        "\n",
        "print(str_3)\n",
        "\n"
      ],
      "metadata": {
        "colab": {
          "base_uri": "https://localhost:8080/"
        },
        "id": "sRW51ROs770P",
        "outputId": "25c8a625-5edd-4512-9fb8-11341281da53"
      },
      "execution_count": null,
      "outputs": [
        {
          "output_type": "stream",
          "name": "stdout",
          "text": [
            "K1KA5CB7\n",
            "ABCKK13\n"
          ]
        }
      ]
    },
    {
      "cell_type": "code",
      "source": [
        "def dfs(x, y):\n",
        "  if x <= -1 or x>= n or y <= -1 or y >= m:\n",
        "    return False\n",
        "  if graph[x][y] == 0:\n",
        "    graph[x][y] = 1\n",
        "    dfs(x - 1, y)\n",
        "    dfs(x, y - 1)\n",
        "    dfs(x + 1, y)\n",
        "    dfs(x, y + 1)\n",
        "    return True\n",
        "  return False\n",
        "\n",
        "n, m = map(int, input().split())\n",
        "\n",
        "graph = []\n",
        "for i in range(n):\n",
        "  graph.append(list(map(int, input())))\n",
        "\n",
        "result = 0\n",
        "for i in range(n):\n",
        "  for j in range(m):\n",
        "    if dfs(i, j) == True:\n",
        "      result += 1\n",
        "\n",
        "print(result)\n",
        "    "
      ],
      "metadata": {
        "colab": {
          "base_uri": "https://localhost:8080/",
          "height": 559
        },
        "id": "hVOkD7N7K_ml",
        "outputId": "faae6d24-c83d-4911-bb47-9b29ea29d0d4"
      },
      "execution_count": null,
      "outputs": [
        {
          "output_type": "error",
          "ename": "KeyboardInterrupt",
          "evalue": "ignored",
          "traceback": [
            "\u001b[0;31m---------------------------------------------------------------------------\u001b[0m",
            "\u001b[0;31mKeyboardInterrupt\u001b[0m                         Traceback (most recent call last)",
            "\u001b[0;32m/usr/local/lib/python3.7/dist-packages/ipykernel/kernelbase.py\u001b[0m in \u001b[0;36m_input_request\u001b[0;34m(self, prompt, ident, parent, password)\u001b[0m\n\u001b[1;32m    728\u001b[0m             \u001b[0;32mtry\u001b[0m\u001b[0;34m:\u001b[0m\u001b[0;34m\u001b[0m\u001b[0;34m\u001b[0m\u001b[0m\n\u001b[0;32m--> 729\u001b[0;31m                 \u001b[0mident\u001b[0m\u001b[0;34m,\u001b[0m \u001b[0mreply\u001b[0m \u001b[0;34m=\u001b[0m \u001b[0mself\u001b[0m\u001b[0;34m.\u001b[0m\u001b[0msession\u001b[0m\u001b[0;34m.\u001b[0m\u001b[0mrecv\u001b[0m\u001b[0;34m(\u001b[0m\u001b[0mself\u001b[0m\u001b[0;34m.\u001b[0m\u001b[0mstdin_socket\u001b[0m\u001b[0;34m,\u001b[0m \u001b[0;36m0\u001b[0m\u001b[0;34m)\u001b[0m\u001b[0;34m\u001b[0m\u001b[0;34m\u001b[0m\u001b[0m\n\u001b[0m\u001b[1;32m    730\u001b[0m             \u001b[0;32mexcept\u001b[0m \u001b[0mException\u001b[0m\u001b[0;34m:\u001b[0m\u001b[0;34m\u001b[0m\u001b[0;34m\u001b[0m\u001b[0m\n",
            "\u001b[0;32m/usr/local/lib/python3.7/dist-packages/jupyter_client/session.py\u001b[0m in \u001b[0;36mrecv\u001b[0;34m(self, socket, mode, content, copy)\u001b[0m\n\u001b[1;32m    802\u001b[0m         \u001b[0;32mtry\u001b[0m\u001b[0;34m:\u001b[0m\u001b[0;34m\u001b[0m\u001b[0;34m\u001b[0m\u001b[0m\n\u001b[0;32m--> 803\u001b[0;31m             \u001b[0mmsg_list\u001b[0m \u001b[0;34m=\u001b[0m \u001b[0msocket\u001b[0m\u001b[0;34m.\u001b[0m\u001b[0mrecv_multipart\u001b[0m\u001b[0;34m(\u001b[0m\u001b[0mmode\u001b[0m\u001b[0;34m,\u001b[0m \u001b[0mcopy\u001b[0m\u001b[0;34m=\u001b[0m\u001b[0mcopy\u001b[0m\u001b[0;34m)\u001b[0m\u001b[0;34m\u001b[0m\u001b[0;34m\u001b[0m\u001b[0m\n\u001b[0m\u001b[1;32m    804\u001b[0m         \u001b[0;32mexcept\u001b[0m \u001b[0mzmq\u001b[0m\u001b[0;34m.\u001b[0m\u001b[0mZMQError\u001b[0m \u001b[0;32mas\u001b[0m \u001b[0me\u001b[0m\u001b[0;34m:\u001b[0m\u001b[0;34m\u001b[0m\u001b[0;34m\u001b[0m\u001b[0m\n",
            "\u001b[0;32m/usr/local/lib/python3.7/dist-packages/zmq/sugar/socket.py\u001b[0m in \u001b[0;36mrecv_multipart\u001b[0;34m(self, flags, copy, track)\u001b[0m\n\u001b[1;32m    624\u001b[0m         \"\"\"\n\u001b[0;32m--> 625\u001b[0;31m         \u001b[0mparts\u001b[0m \u001b[0;34m=\u001b[0m \u001b[0;34m[\u001b[0m\u001b[0mself\u001b[0m\u001b[0;34m.\u001b[0m\u001b[0mrecv\u001b[0m\u001b[0;34m(\u001b[0m\u001b[0mflags\u001b[0m\u001b[0;34m,\u001b[0m \u001b[0mcopy\u001b[0m\u001b[0;34m=\u001b[0m\u001b[0mcopy\u001b[0m\u001b[0;34m,\u001b[0m \u001b[0mtrack\u001b[0m\u001b[0;34m=\u001b[0m\u001b[0mtrack\u001b[0m\u001b[0;34m)\u001b[0m\u001b[0;34m]\u001b[0m\u001b[0;34m\u001b[0m\u001b[0;34m\u001b[0m\u001b[0m\n\u001b[0m\u001b[1;32m    626\u001b[0m         \u001b[0;31m# have first part already, only loop while more to receive\u001b[0m\u001b[0;34m\u001b[0m\u001b[0;34m\u001b[0m\u001b[0;34m\u001b[0m\u001b[0m\n",
            "\u001b[0;32mzmq/backend/cython/socket.pyx\u001b[0m in \u001b[0;36mzmq.backend.cython.socket.Socket.recv\u001b[0;34m()\u001b[0m\n",
            "\u001b[0;32mzmq/backend/cython/socket.pyx\u001b[0m in \u001b[0;36mzmq.backend.cython.socket.Socket.recv\u001b[0;34m()\u001b[0m\n",
            "\u001b[0;32mzmq/backend/cython/socket.pyx\u001b[0m in \u001b[0;36mzmq.backend.cython.socket._recv_copy\u001b[0;34m()\u001b[0m\n",
            "\u001b[0;32m/usr/local/lib/python3.7/dist-packages/zmq/backend/cython/checkrc.pxd\u001b[0m in \u001b[0;36mzmq.backend.cython.checkrc._check_rc\u001b[0;34m()\u001b[0m\n",
            "\u001b[0;31mKeyboardInterrupt\u001b[0m: ",
            "\nDuring handling of the above exception, another exception occurred:\n",
            "\u001b[0;31mKeyboardInterrupt\u001b[0m                         Traceback (most recent call last)",
            "\u001b[0;32m<ipython-input-90-e186a935e143>\u001b[0m in \u001b[0;36m<module>\u001b[0;34m()\u001b[0m\n\u001b[1;32m      8\u001b[0m     \u001b[0mdfs\u001b[0m\u001b[0;34m(\u001b[0m\u001b[0mx\u001b[0m \u001b[0;34m-\u001b[0m \u001b[0;36m1\u001b[0m\u001b[0;34m,\u001b[0m \u001b[0my\u001b[0m\u001b[0;34m)\u001b[0m\u001b[0;34m\u001b[0m\u001b[0;34m\u001b[0m\u001b[0m\n\u001b[1;32m      9\u001b[0m \u001b[0;34m\u001b[0m\u001b[0m\n\u001b[0;32m---> 10\u001b[0;31m \u001b[0mn\u001b[0m\u001b[0;34m,\u001b[0m \u001b[0mm\u001b[0m \u001b[0;34m=\u001b[0m \u001b[0mmap\u001b[0m\u001b[0;34m(\u001b[0m\u001b[0mint\u001b[0m\u001b[0;34m,\u001b[0m \u001b[0minput\u001b[0m\u001b[0;34m(\u001b[0m\u001b[0;34m)\u001b[0m\u001b[0;34m.\u001b[0m\u001b[0msplit\u001b[0m\u001b[0;34m(\u001b[0m\u001b[0;34m)\u001b[0m\u001b[0;34m)\u001b[0m\u001b[0;34m\u001b[0m\u001b[0;34m\u001b[0m\u001b[0m\n\u001b[0m\u001b[1;32m     11\u001b[0m \u001b[0;34m\u001b[0m\u001b[0m\n\u001b[1;32m     12\u001b[0m \u001b[0mgraph\u001b[0m \u001b[0;34m=\u001b[0m \u001b[0;34m[\u001b[0m\u001b[0;34m]\u001b[0m\u001b[0;34m\u001b[0m\u001b[0;34m\u001b[0m\u001b[0m\n",
            "\u001b[0;32m/usr/local/lib/python3.7/dist-packages/ipykernel/kernelbase.py\u001b[0m in \u001b[0;36mraw_input\u001b[0;34m(self, prompt)\u001b[0m\n\u001b[1;32m    702\u001b[0m             \u001b[0mself\u001b[0m\u001b[0;34m.\u001b[0m\u001b[0m_parent_ident\u001b[0m\u001b[0;34m,\u001b[0m\u001b[0;34m\u001b[0m\u001b[0;34m\u001b[0m\u001b[0m\n\u001b[1;32m    703\u001b[0m             \u001b[0mself\u001b[0m\u001b[0;34m.\u001b[0m\u001b[0m_parent_header\u001b[0m\u001b[0;34m,\u001b[0m\u001b[0;34m\u001b[0m\u001b[0;34m\u001b[0m\u001b[0m\n\u001b[0;32m--> 704\u001b[0;31m             \u001b[0mpassword\u001b[0m\u001b[0;34m=\u001b[0m\u001b[0;32mFalse\u001b[0m\u001b[0;34m,\u001b[0m\u001b[0;34m\u001b[0m\u001b[0;34m\u001b[0m\u001b[0m\n\u001b[0m\u001b[1;32m    705\u001b[0m         )\n\u001b[1;32m    706\u001b[0m \u001b[0;34m\u001b[0m\u001b[0m\n",
            "\u001b[0;32m/usr/local/lib/python3.7/dist-packages/ipykernel/kernelbase.py\u001b[0m in \u001b[0;36m_input_request\u001b[0;34m(self, prompt, ident, parent, password)\u001b[0m\n\u001b[1;32m    732\u001b[0m             \u001b[0;32mexcept\u001b[0m \u001b[0mKeyboardInterrupt\u001b[0m\u001b[0;34m:\u001b[0m\u001b[0;34m\u001b[0m\u001b[0;34m\u001b[0m\u001b[0m\n\u001b[1;32m    733\u001b[0m                 \u001b[0;31m# re-raise KeyboardInterrupt, to truncate traceback\u001b[0m\u001b[0;34m\u001b[0m\u001b[0;34m\u001b[0m\u001b[0;34m\u001b[0m\u001b[0m\n\u001b[0;32m--> 734\u001b[0;31m                 \u001b[0;32mraise\u001b[0m \u001b[0mKeyboardInterrupt\u001b[0m\u001b[0;34m\u001b[0m\u001b[0;34m\u001b[0m\u001b[0m\n\u001b[0m\u001b[1;32m    735\u001b[0m             \u001b[0;32melse\u001b[0m\u001b[0;34m:\u001b[0m\u001b[0;34m\u001b[0m\u001b[0;34m\u001b[0m\u001b[0m\n\u001b[1;32m    736\u001b[0m                 \u001b[0;32mbreak\u001b[0m\u001b[0;34m\u001b[0m\u001b[0;34m\u001b[0m\u001b[0m\n",
            "\u001b[0;31mKeyboardInterrupt\u001b[0m: "
          ]
        }
      ]
    },
    {
      "cell_type": "code",
      "source": [
        "def bfs(x, y):\n",
        "  queue = deque()\n",
        "  queue.append((x, y))\n",
        "\n",
        "  while queue:\n",
        "    x, y = queue.popleft()\n",
        "\n",
        "    for i in range(4):\n",
        "      nx = x + dx[i]\n",
        "      ny = y + dy[i]\n",
        "\n",
        "      if nx < 0 or nx >= n or ny < 0 or ny >= m:\n",
        "        continue\n",
        "      if graph[nx][ny] == 0:\n",
        "        continue\n",
        "      if graph[nx][ny] == 1:\n",
        "        graph[nx][ny] = graph[x][y] + 1\n",
        "        queue.append((nx, ny))\n",
        "\n",
        "  return graph[n - 1][m - 1 ]\n",
        "\n",
        "from collections import deque\n",
        "\n",
        "n, m = map(int, input(). split())\n",
        "\n",
        "graph = []\n",
        "for i in range(n):\n",
        "  graph.append(list(map(int, input())))\n",
        "\n",
        "dx = [-1, 1, 0, 0]\n",
        "dy = [0, 0, -1, 1]\n",
        "\n",
        "print(bfs(0, 0))"
      ],
      "metadata": {
        "id": "Rq-tqMp8NTIX"
      },
      "execution_count": null,
      "outputs": []
    }
  ]
}